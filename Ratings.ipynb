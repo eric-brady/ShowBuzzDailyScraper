{
 "cells": [
  {
   "cell_type": "code",
   "execution_count": 1,
   "metadata": {},
   "outputs": [],
   "source": [
    "import glob\n",
    "import os\n",
    "import pandas as pd\n",
    "import seaborn as sns\n",
    "import datetime\n",
    "import matplotlib.pyplot as plt"
   ]
  },
  {
   "cell_type": "code",
   "execution_count": 2,
   "metadata": {},
   "outputs": [],
   "source": [
    "all_files = glob.glob(\"data/*.csv\")\n",
    "li = []\n",
    "for filename in all_files:\n",
    "    df = pd.read_csv(filename, index_col=None, header=0, thousands=',')\n",
    "    li.append(df)\n",
    "df = pd.concat(li, axis=0, ignore_index=True)"
   ]
  },
  {
   "cell_type": "code",
   "execution_count": 3,
   "metadata": {},
   "outputs": [
    {
     "data": {
      "text/plain": [
       "rank        0\n",
       "program     0\n",
       "network     0\n",
       "time        0\n",
       "duration    0\n",
       "rating      0\n",
       "viewers     0\n",
       "date        0\n",
       "dtype: int64"
      ]
     },
     "execution_count": 3,
     "metadata": {},
     "output_type": "execute_result"
    }
   ],
   "source": [
    "# Check for null data\n",
    "df.isnull().sum()"
   ]
  },
  {
   "cell_type": "code",
   "execution_count": 4,
   "metadata": {},
   "outputs": [],
   "source": [
    "df['program'] = df['program'].str.split(':').str[0]\n",
    "df['year'] = pd.DatetimeIndex(df['date']).year"
   ]
  },
  {
   "cell_type": "code",
   "execution_count": 5,
   "metadata": {},
   "outputs": [],
   "source": [
    "df['category'] = 'Other'\n",
    "df['category'] = df.apply(lambda x: 'News' if x.network in (['FOX NEWS CHANNEL', 'MSNBC', 'CNN', 'NEWSMAX TV', 'FOX BUSINESS NETWORK', 'CNBC']) else x.category, axis=1)\n",
    "df['category'] = df.apply(lambda x: 'Sports' if x.network in (['ESPN', 'GOLF CHANNEL', 'NBC SPORTS NETWORK', 'NFL NETWORK', 'FOX SPORTS 1', 'UNIVISION DEPORTES',\n",
    "                    'MLB NETWORK', 'ESPNU', 'NBA-TV', 'ESPN2', 'FOX DEPORTES', 'FOX SPORTS 2', 'BEIN SPORT',\n",
    "                    'ESPNEWS', 'BEIN SPORT ESPANOL', 'ESPN DEPORTES']) else x.category, axis=1)\n",
    "df['category'] = df.apply(lambda x: 'Sports' if any(leagues in x.program for leagues in ('NCAA', 'NBA', 'MLB', 'NFL')) else x.category, axis=1)"
   ]
  },
  {
   "cell_type": "markdown",
   "metadata": {},
   "source": [
    "## Top 50 cable shows by year (no sports/news, >2 episodes)"
   ]
  },
  {
   "cell_type": "code",
   "execution_count": 6,
   "metadata": {},
   "outputs": [],
   "source": [
    "def yearStats(year):\n",
    "    plot = df.groupby(['year', 'program', 'category'])['viewers'].agg(avg_rating='mean', episodes='count').reset_index()  \n",
    "    plot = plot[(plot['episodes'] > 2) & (plot['category'] == 'Other')].sort_values('avg_rating', ascending=False)\n",
    "    \n",
    "    # YoY Change in prior year top 50 shows\n",
    "    top_programs = plot[plot['year'] == year - 1].sort_values('avg_rating', ascending=False).head(50).program.tolist()\n",
    "    t1 = plot[(plot['program'].isin(top_programs)) & (plot['year'] == year - 1)].avg_rating.mean()\n",
    "    t2 = plot[(plot['program'].isin(top_programs)) & (plot['year'] == year)].avg_rating.mean()\n",
    "    top_programs_YoY_change = t2 / t1 - 1\n",
    "    \n",
    "    # YoY decrease\n",
    "    t1 = plot[(plot['year'] == year - 1)].head(50).avg_rating.mean()\n",
    "    t2 = plot[(plot['year'] == year)].head(50).avg_rating.mean()\n",
    "    top_50_no_sports_news_YoY_change = t2 / t1 - 1\n",
    "    \n",
    "    # Raw\n",
    "    t1 = plot[(plot['year'] == year - 1) & (plot['program'] == 'WWE ENTERTAINMENT')].head(50).avg_rating.mean()\n",
    "    t2 = plot[(plot['year'] == year) & (plot['program'] == 'WWE ENTERTAINMENT')].head(50).avg_rating.mean()\n",
    "    raw_YoY = t2 / t1 - 1\n",
    "    \n",
    "    return {'year': year, 'top_programs_YoY_change':top_programs_YoY_change, \n",
    "            'top_50_no_sports_news_YoY_change':top_50_no_sports_news_YoY_change, 'raw':raw_YoY}"
   ]
  },
  {
   "cell_type": "code",
   "execution_count": 7,
   "metadata": {},
   "outputs": [
    {
     "data": {
      "text/html": [
       "<div>\n",
       "<style scoped>\n",
       "    .dataframe tbody tr th:only-of-type {\n",
       "        vertical-align: middle;\n",
       "    }\n",
       "\n",
       "    .dataframe tbody tr th {\n",
       "        vertical-align: top;\n",
       "    }\n",
       "\n",
       "    .dataframe thead th {\n",
       "        text-align: right;\n",
       "    }\n",
       "</style>\n",
       "<table border=\"1\" class=\"dataframe\">\n",
       "  <thead>\n",
       "    <tr style=\"text-align: right;\">\n",
       "      <th></th>\n",
       "      <th>year</th>\n",
       "      <th>top_programs_YoY_change</th>\n",
       "      <th>top_50_no_sports_news_YoY_change</th>\n",
       "      <th>raw</th>\n",
       "    </tr>\n",
       "  </thead>\n",
       "  <tbody>\n",
       "    <tr>\n",
       "      <th>0</th>\n",
       "      <td>2017</td>\n",
       "      <td>-0.071118</td>\n",
       "      <td>-0.098165</td>\n",
       "      <td>-0.061871</td>\n",
       "    </tr>\n",
       "    <tr>\n",
       "      <th>1</th>\n",
       "      <td>2018</td>\n",
       "      <td>-0.201602</td>\n",
       "      <td>-0.197025</td>\n",
       "      <td>-0.064802</td>\n",
       "    </tr>\n",
       "    <tr>\n",
       "      <th>2</th>\n",
       "      <td>2019</td>\n",
       "      <td>-0.207571</td>\n",
       "      <td>-0.045567</td>\n",
       "      <td>-0.143505</td>\n",
       "    </tr>\n",
       "    <tr>\n",
       "      <th>3</th>\n",
       "      <td>2020</td>\n",
       "      <td>-0.224530</td>\n",
       "      <td>-0.151267</td>\n",
       "      <td>-0.220427</td>\n",
       "    </tr>\n",
       "  </tbody>\n",
       "</table>\n",
       "</div>"
      ],
      "text/plain": [
       "   year  top_programs_YoY_change  top_50_no_sports_news_YoY_change       raw\n",
       "0  2017                -0.071118                         -0.098165 -0.061871\n",
       "1  2018                -0.201602                         -0.197025 -0.064802\n",
       "2  2019                -0.207571                         -0.045567 -0.143505\n",
       "3  2020                -0.224530                         -0.151267 -0.220427"
      ]
     },
     "execution_count": 7,
     "metadata": {},
     "output_type": "execute_result"
    }
   ],
   "source": [
    "stats_2017 = yearStats(2017)\n",
    "stats_2018 = yearStats(2018)\n",
    "stats_2019 = yearStats(2019)\n",
    "stats_2020 = yearStats(2020)\n",
    "data = [stats_2017, stats_2018, stats_2019, stats_2020]\n",
    "year_stats = pd.DataFrame(data) \n",
    "year_stats"
   ]
  },
  {
   "cell_type": "code",
   "execution_count": 8,
   "metadata": {},
   "outputs": [
    {
     "data": {
      "image/png": "[encoded data removed]",
      "text/plain": [
       "<Figure size 1152x432 with 1 Axes>"
      ]
     },
     "metadata": {
      "needs_background": "light"
     },
     "output_type": "display_data"
    }
   ],
   "source": [
    "tidy = year_stats.melt(id_vars='year').rename(columns=str.title)\n",
    "plt.figure(figsize=(16, 6))\n",
    "fig = sns.barplot(x='Year', y='Value', hue='Variable', data=tidy)"
   ]
  },
  {
   "cell_type": "code",
   "execution_count": 9,
   "metadata": {},
   "outputs": [],
   "source": [
    "plot = df.groupby(['year', 'program', 'category'])['viewers'].agg(avg_rating='mean', episodes='count').reset_index()\n",
    "plot[plot['year'] == 2017].sort_values('avg_rating', ascending=False).to_csv('2017.csv', index=False)"
   ]
  },
  {
   "cell_type": "code",
   "execution_count": 10,
   "metadata": {},
   "outputs": [],
   "source": [
    "df.to_csv('merged.csv', index=False)"
   ]
  }
 ],
 "metadata": {
  "kernelspec": {
   "display_name": "Python 3",
   "language": "python",
   "name": "python3"
  },
  "language_info": {
   "codemirror_mode": {
    "name": "ipython",
    "version": 3
   },
   "file_extension": ".py",
   "mimetype": "text/x-python",
   "name": "python",
   "nbconvert_exporter": "python",
   "pygments_lexer": "ipython3",
   "version": "3.8.5"
  },
  "toc": {
   "base_numbering": 1,
   "nav_menu": {},
   "number_sections": true,
   "sideBar": true,
   "skip_h1_title": false,
   "title_cell": "Table of Contents",
   "title_sidebar": "Contents",
   "toc_cell": false,
   "toc_position": {},
   "toc_section_display": true,
   "toc_window_display": false
  }
 },
 "nbformat": 4,
 "nbformat_minor": 4
}
